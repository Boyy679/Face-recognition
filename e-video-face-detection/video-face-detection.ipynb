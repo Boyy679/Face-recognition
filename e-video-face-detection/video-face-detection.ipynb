{
 "cells": [
  {
   "cell_type": "markdown",
   "metadata": {},
   "source": [
    "Classify 5+ different people in a video, add boxes and name labels and output a new video"
   ]
  },
  {
   "cell_type": "code",
   "execution_count": 2,
   "metadata": {},
   "outputs": [],
   "source": [
    "# import the necessary packages\n",
    "from imutils import paths\n",
    "import face_recognition\n",
    "import pickle\n",
    "import cv2\n",
    "import os"
   ]
  },
  {
   "cell_type": "code",
   "execution_count": 3,
   "metadata": {},
   "outputs": [
    {
     "name": "stdout",
     "output_type": "stream",
     "text": [
      "[INFO] quantifying faces...\n",
      "[INFO] processing image 1/14\n",
      "[INFO] processing image 2/14\n",
      "[INFO] processing image 3/14\n",
      "[INFO] processing image 4/14\n",
      "[INFO] processing image 5/14\n",
      "[INFO] processing image 6/14\n",
      "[INFO] processing image 7/14\n",
      "[INFO] processing image 8/14\n",
      "[INFO] processing image 9/14\n",
      "[INFO] processing image 10/14\n",
      "[INFO] processing image 11/14\n",
      "[INFO] processing image 12/14\n",
      "[INFO] processing image 13/14\n",
      "[INFO] processing image 14/14\n",
      "[INFO] serializing encodings...\n"
     ]
    }
   ],
   "source": [
    "dataset_path='dataset'\n",
    "encodings_path='encodings.pickle'\n",
    "detection_method='cnn'\n",
    "# Image path\n",
    "print(\"[INFO] quantifying faces...\")\n",
    "imagePaths = list(paths.list_images(dataset_path))\n",
    "# initialize list\n",
    "knownEncodings = []\n",
    "knownNames = []\n",
    "# Traverse the image path\n",
    "for (i, imagePath) in enumerate(imagePaths):\n",
    "    # Extract the name from the picture path\n",
    "    print(\"[INFO] processing image {}/{}\".format(i + 1,\n",
    "                                                 len(imagePaths)))\n",
    "    name = imagePath.split(os.path.sep)[-2]\n",
    "    # Load input image and convert from BGR (OpenCV sort)\n",
    "    # then dlib sort（RGB）\n",
    "    image = cv2.imread(imagePath)\n",
    "    rgb = cv2.cvtColor(image, cv2.COLOR_BGR2RGB)\n",
    "    # Detects the (x, y) coordinates of the bounding box\n",
    "    # correspond each input face images \n",
    "    boxes = face_recognition.face_locations(rgb, model=detection_method)\n",
    "    # face embedding\n",
    "    encodings = face_recognition.face_encodings(rgb, boxes)\n",
    "    # traverse encodings\n",
    "    for encoding in encodings:\n",
    "        # put each encoding and name into the set\n",
    "        # encode\n",
    "        knownEncodings.append(encoding)\n",
    "        knownNames.append(name)\n",
    "# dump the facial encodings + names to disk\n",
    "print(\"[INFO] serializing encodings...\")\n",
    "data = {\"encodings\": knownEncodings, \"names\": knownNames}\n",
    "f = open(encodings_path, \"wb\")\n",
    "f.write(pickle.dumps(data))\n",
    "f.close()"
   ]
  },
  {
   "cell_type": "code",
   "execution_count": 4,
   "metadata": {},
   "outputs": [
    {
     "name": "stdout",
     "output_type": "stream",
     "text": [
      "[INFO] loading encodings...\n",
      "[INFO] starting video stream...\n",
      "Can't receive frame (stream end?). Exiting ...\n"
     ]
    }
   ],
   "source": [
    "# import the necessary packages\n",
    "from imutils.video import VideoStream\n",
    "import face_recognition\n",
    "import imutils\n",
    "import pickle\n",
    "import time\n",
    "import cv2\n",
    "\n",
    "# construct the argument parser and parse the arguments\n",
    "\n",
    "encodings_path='encodings.pickle'\n",
    "output='test_output.avi'\n",
    "display_type=0\n",
    "detection_method='cnn'\n",
    "# load the known faces and embeddingsavi\n",
    "print(\"[INFO] loading encodings...\")\n",
    "data = pickle.loads(open(encodings_path, \"rb\").read())\n",
    "print(\"[INFO] starting video stream...\")\n",
    "#vs = VideoStream(src=0).start()\n",
    "vs=cv2.VideoCapture('test2.mp4')#input video\n",
    "writer = None\n",
    "time.sleep(2.0)\n",
    "# loop over frames from the video file stream\n",
    "while True:\n",
    "    # grab the frame from the threaded video stream\n",
    "    ret,frame = vs.read()\n",
    "    if not ret:\n",
    "        print(\"Can't receive frame (stream end?). Exiting ...\")\n",
    "        break\n",
    "    # translate the incoming frame from BGR to RGB，then make it 750 pixels wide(faster)\n",
    "    rgb = cv2.cvtColor(frame, cv2.COLOR_BGR2RGB)\n",
    "    rgb = imutils.resize(frame, width=750)\n",
    "    r = frame.shape[1] / float(rgb.shape[1])\n",
    "    boxes = face_recognition.face_locations(rgb,\n",
    "                                            model=detection_method)\n",
    "    encodings = face_recognition.face_encodings(rgb, boxes)\n",
    "    names = []\n",
    "    # loop face embedding\n",
    "    for encoding in encodings:\n",
    "        # Trying to match every face in the input image to the embedding we know\n",
    "        matches = face_recognition.compare_faces(data[\"encodings\"],\n",
    "                                                 encoding)\n",
    "        name = \"Unknown\"\n",
    "        # check if we have matching item\n",
    "        if True in matches:\n",
    "            matchedIdxs = [i for (i, b) in enumerate(matches) if b]\n",
    "            counts = {}\n",
    "            for i in matchedIdxs:\n",
    "                name = data[\"names\"][i]\n",
    "                counts[name] = counts.get(name, 0) + 1\n",
    "            # the highest vote\n",
    "            name = max(counts, key=counts.get)\n",
    "        # renew names\n",
    "        names.append(name)\n",
    "    for ((top, right, bottom, left), name) in zip(boxes, names):\n",
    "        top = int(top * r)\n",
    "        right = int(right * r)\n",
    "        bottom = int(bottom * r)\n",
    "        left = int(left * r)\n",
    "        # draw people name into video face\n",
    "        cv2.rectangle(frame, (left, top), (right, bottom),\n",
    "                      (0, 255, 0), 2)\n",
    "        y = top - 15 if top - 15 > 15 else top + 15\n",
    "        cv2.putText(frame, name, (left, y), cv2.FONT_HERSHEY_SIMPLEX,\n",
    "                    0.75, (0, 255, 0), 2)\n",
    "        if writer is None and output is not None:\n",
    "            fourcc = cv2.VideoWriter_fourcc(*\"MJPG\")\n",
    "            writer = cv2.VideoWriter(output, fourcc, 20,\n",
    "                                     (frame.shape[1], frame.shape[0]), True)\n",
    "        if writer is not None:\n",
    "            writer.write(frame)\n",
    "            # Check whether we should display the output frame to the screen\n",
    "        if display_type > 0:\n",
    "            cv2.imshow(\"Frame\", frame)\n",
    "            key = cv2.waitKey(1) & 0xFF\n",
    "            # if the `q` key was pressed, break from the loop\n",
    "            if key == ord(\"q\"):\n",
    "                break\n",
    "# do a bit of cleanup\n",
    "cv2.destroyAllWindows()\n",
    "#vs.stop()\n",
    "vs.release()\n",
    "# check to see if the video writer point needs to be released\n",
    "if writer is not None:\n",
    "    writer.release()"
   ]
  },
  {
   "cell_type": "code",
   "execution_count": null,
   "metadata": {},
   "outputs": [],
   "source": []
  }
 ],
 "metadata": {
  "kernelspec": {
   "display_name": "Python 3.6.13 ('python36')",
   "language": "python",
   "name": "python3"
  },
  "language_info": {
   "codemirror_mode": {
    "name": "ipython",
    "version": 3
   },
   "file_extension": ".py",
   "mimetype": "text/x-python",
   "name": "python",
   "nbconvert_exporter": "python",
   "pygments_lexer": "ipython3",
   "version": "3.6.13"
  },
  "orig_nbformat": 4,
  "vscode": {
   "interpreter": {
    "hash": "66718b9a53615f98578224f3995fa019fe1038784e8c0046f13e81e6f9eb1f1d"
   }
  }
 },
 "nbformat": 4,
 "nbformat_minor": 2
}
